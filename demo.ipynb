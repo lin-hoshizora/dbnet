{
 "cells": [
  {
   "cell_type": "code",
   "execution_count": null,
   "metadata": {},
   "outputs": [],
   "source": [
    "from dbnet.trainer import SimpleTrainer\n",
    "from dbnet.dataset import check"
   ]
  },
  {
   "cell_type": "code",
   "execution_count": null,
   "metadata": {},
   "outputs": [],
   "source": [
    "!ls /datasets/almex_insurance/img | wc -l\n",
    "\n"
   ]
  },
  {
   "cell_type": "markdown",
   "metadata": {},
   "source": [
    "# Instantiate a trainer"
   ]
  },
  {
   "cell_type": "markdown",
   "metadata": {},
   "source": [
    "To override parameters in your model config (`db192mini.yaml` in this demo), just feed it to constructor of SimpleTrainer.\n",
    "We only override the static input shape in `db192.yaml` with a dynamic one for demonstration purpose. This is unnecessary in practice since `SimpleTrainer` always force a dynamic input shape for training."
   ]
  },
  {
   "cell_type": "code",
   "execution_count": null,
   "metadata": {},
   "outputs": [],
   "source": [
    "# parameters to override\n",
    "override = {\n",
    "    \"input_shape\": (None, None, 3),\n",
    "}\n",
    "\n",
    "trainer = SimpleTrainer(conf_path=\"./conf/lin.yaml\", **override)\n",
    "# trainer = SimpleTrainer(conf_path=\"./conf/lin.yaml\")"
   ]
  },
  {
   "cell_type": "code",
   "execution_count": null,
   "metadata": {},
   "outputs": [],
   "source": [
    "trainer"
   ]
  },
  {
   "cell_type": "markdown",
   "metadata": {},
   "source": [
    "## Check configuration of our trainer:"
   ]
  },
  {
   "cell_type": "code",
   "execution_count": null,
   "metadata": {},
   "outputs": [],
   "source": [
    "trainer.model.summary()"
   ]
  },
  {
   "cell_type": "markdown",
   "metadata": {},
   "source": [
    "## Login if using wandb"
   ]
  },
  {
   "cell_type": "code",
   "execution_count": null,
   "metadata": {},
   "outputs": [],
   "source": [
    "if \"WandbCallback\" in trainer.train_conf[\"callbacks\"]:\n",
    "    !wandb login"
   ]
  },
  {
   "cell_type": "markdown",
   "metadata": {},
   "source": [
    "# Check data pipelines"
   ]
  },
  {
   "cell_type": "code",
   "execution_count": null,
   "metadata": {},
   "outputs": [],
   "source": [
    "# for idx, (x, y) in enumerate(trainer.ds_train.take(500)): print(f\"\\r{idx}\", end=\"\")\n",
    "# for x, y in trainer.ds_val: continue\n",
    "model.output\n"
   ]
  },
  {
   "cell_type": "code",
   "execution_count": null,
   "metadata": {},
   "outputs": [],
   "source": [
    "# for x_train, y_train in trainer.ds_train: break\n",
    "# for x_val, y_val in trainer.ds_val: break\n",
    "check(x_train, y_train, figsize=(20, 10))\n",
    "check(x_val, y_val, figsize=(20, 10))"
   ]
  },
  {
   "cell_type": "markdown",
   "metadata": {},
   "source": [
    "# Train\n",
    "\n",
    "To override parameters of callbacks and fit in your train config (`train.yaml` in this demo), just feed it to `SimpleTrainer.train`. For demonstration, we are override the original # of epochs (30) with 31.\n",
    "\n",
    "**Notice: The current overriding mechanism uses a very naive implementation, thus it cannot work correctly when there are multiple subfields with the same name. For details, refer to `BaseTrainer._override`.**"
   ]
  },
  {
   "cell_type": "code",
   "execution_count": null,
   "metadata": {},
   "outputs": [],
   "source": [
    "override = {\"epochs\": 31}\n",
    "trainer.train(wandb_runname=\"demo\", **override)"
   ]
  },
  {
   "cell_type": "markdown",
   "metadata": {},
   "source": [
    "# Inference"
   ]
  },
  {
   "cell_type": "code",
   "execution_count": null,
   "metadata": {},
   "outputs": [],
   "source": [
    "from tensorflow import keras\n",
    "keras.backend.clear_session()\n",
    "\n",
    "import matplotlib.pyplot as plt\n",
    "import cv2\n",
    "import numpy as np\n",
    "from dbnet.model import dbnet_fpn, infer_strip\n",
    "from dbnet.utils import load_conf"
   ]
  },
  {
   "cell_type": "code",
   "execution_count": null,
   "metadata": {},
   "outputs": [],
   "source": [
    "conf = load_conf(\"./conf/db192mini.yaml\")\n",
    "conf"
   ]
  },
  {
   "cell_type": "code",
   "execution_count": null,
   "metadata": {},
   "outputs": [],
   "source": [
    "conf = load_conf(\"./conf/db192mini.yaml\")\n",
    "conf[\"options\"][\"input_shape\"] = (224, 224, 3)\n",
    "model = dbnet_fpn(**conf[\"options\"], batch_size=1, dynamic_shape=True)\n",
    "# model = dbnet_fpn(**conf[\"options\"], batch_size=1, dynamic_shape=False)\n",
    "# release/ckpt/db192mini/2021_04_05_03_17_38/21-1.113.ckpt.index\n",
    "# release/ckpt/db192mini/2021_04_12_08_03_09/20-0.440.ckpt.data-00000-of-00001\n",
    "# workspace/dbnet.release.lin/ckpt/db192mini/2021_08_06_07_55_20/26-0.427.ckpt.index\n",
    "model.load_weights(\"./ckpt/db192mini/2021_08_06_07_55_20/26-0.427.ckpt\")\n",
    "model = infer_strip(model)\n"
   ]
  },
  {
   "cell_type": "code",
   "execution_count": null,
   "metadata": {},
   "outputs": [],
   "source": [
    "model.input"
   ]
  },
  {
   "cell_type": "code",
   "execution_count": null,
   "metadata": {},
   "outputs": [],
   "source": [
    "# model.load_weights(\"./ckpt/mynum-mobilev3-1.0-192-min-imagenet/11-0.581.ckpt\")"
   ]
  },
  {
   "cell_type": "code",
   "execution_count": null,
   "metadata": {},
   "outputs": [],
   "source": [
    "# img1 = plt.imread(\"/workspace/release/106.jpg\")"
   ]
  },
  {
   "cell_type": "code",
   "execution_count": null,
   "metadata": {},
   "outputs": [],
   "source": [
    "# img = plt.imread(\"./data/test_insurance.jpg\")\n",
    "# img = plt.imread(\"/datasets/e2e/train/img_1.jpg\")\n",
    "# workspace/dbnet.release.lin/photo_2021-06-21_10-37-15.jpg\n",
    "# workspace/dbnet.release.lin/photo_2021-06-21_17-41-11.jpg\n",
    "img = plt.imread(\"photo_2021-06-21_17-41-11.jpg\")\n",
    "print(img.shape)\n",
    "\n",
    "img = cv2.resize(img, (int(640 / img.shape[0] * img.shape[1] // 32 * 32), 640), cv2.INTER_AREA)\n",
    "\n",
    "preds = model.predict(img[np.newaxis, ...].astype(np.float32))\n",
    "\n",
    "print(preds[0].shape)\n",
    "prob = preds[0][0, ..., 0]\n",
    "\n",
    "plt.figure(figsize=(10, 10))\n",
    "plt.imshow(img, alpha=0.9)\n",
    "# plt.show()\n",
    "plt.imshow(prob, alpha=0.5)\n",
    "plt.show()\n",
    "# plt.imshow(plt.imread('./data/prob.jpg'))\n",
    "# plt.show()\n"
   ]
  },
  {
   "cell_type": "code",
   "execution_count": null,
   "metadata": {},
   "outputs": [],
   "source": [
    "new_model = keras.models.Model(model.get_layer('image').input,model.get_layer('binary').input)"
   ]
  },
  {
   "cell_type": "code",
   "execution_count": null,
   "metadata": {},
   "outputs": [],
   "source": [
    "# model.get_layer('image').input"
   ]
  },
  {
   "cell_type": "code",
   "execution_count": null,
   "metadata": {},
   "outputs": [],
   "source": [
    "model.summary()\n"
   ]
  },
  {
   "cell_type": "code",
   "execution_count": null,
   "metadata": {},
   "outputs": [],
   "source": [
    "import tensorflow as tf\n",
    "from tensorflow import keras\n",
    "import numpy as np\n"
   ]
  },
  {
   "cell_type": "code",
   "execution_count": null,
   "metadata": {},
   "outputs": [],
   "source": []
  },
  {
   "cell_type": "code",
   "execution_count": null,
   "metadata": {},
   "outputs": [],
   "source": [
    "model.save('my_model')"
   ]
  },
  {
   "cell_type": "code",
   "execution_count": null,
   "metadata": {},
   "outputs": [],
   "source": [
    "keras.backend.clear_session()"
   ]
  },
  {
   "cell_type": "code",
   "execution_count": null,
   "metadata": {},
   "outputs": [],
   "source": [
    "model1 = keras.models.load_model('my_model')"
   ]
  },
  {
   "cell_type": "code",
   "execution_count": null,
   "metadata": {},
   "outputs": [],
   "source": [
    "model1.output"
   ]
  },
  {
   "cell_type": "code",
   "execution_count": null,
   "metadata": {},
   "outputs": [],
   "source": [
    "# img = plt.imread(\"photo_2021-06-21_17-41-11.jpg\")\n",
    "print(img.shape)\n",
    "\n",
    "img = cv2.resize(img, (int(640 / img.shape[0] * img.shape[1] // 32 * 32), 640), cv2.INTER_AREA)\n",
    "print(img.shape)\n",
    "\n",
    "preds = model1.predict(img[np.newaxis, ...].astype(np.float32))\n",
    "print(preds.shape)\n",
    "prob = preds[0, ..., 0]                                                                                                                                                        \n",
    "\n",
    "plt.figure(figsize=(10, 10))\n",
    "plt.imshow(img, alpha=0.9)\n",
    "# plt.show()\n",
    "plt.imshow(prob, alpha=0.5)\n",
    "plt.show()"
   ]
  },
  {
   "cell_type": "code",
   "execution_count": null,
   "metadata": {},
   "outputs": [],
   "source": [
    "# new_model = keras.models.Model(model.get_layer('image').input,model.get_layer('threshold').input)\n",
    "img = plt.imread(\"photo_2021-06-21_17-41-11.jpg\")\n",
    "print(img.shape)\n",
    "\n",
    "img = cv2.resize(img, (int(640 / img.shape[0] * img.shape[1] // 32 * 32), 640), cv2.INTER_AREA)\n",
    "print(img.shape)\n",
    "\n",
    "preds = model.predict(img[np.newaxis, ...].astype(np.float32))\n",
    "print(preds[0].shape)\n",
    "prob = preds[0][0, ..., 0]\n",
    "th = preds[1][0, ..., 0]\n",
    "binary = preds[2][0, ..., 0]\n",
    "\n",
    "plt.figure(figsize=(10, 10))\n",
    "# plt.imshow(img, alpha=0.9)\n",
    "# plt.show()\n",
    "plt.imshow(prob, alpha=0.5)\n",
    "plt.show()\n",
    "\n",
    "\n",
    "plt.figure(figsize=(10, 10))\n",
    "# plt.imshow(img, alpha=0.9)\n",
    "# plt.show()\n",
    "plt.imshow(th, alpha=0.5)\n",
    "plt.show()\n",
    "\n",
    "\n",
    "plt.figure(figsize=(10, 10))\n",
    "# plt.imshow(img, alpha=0.9)\n",
    "# plt.show()\n",
    "plt.imshow(binary, alpha=0.5)\n",
    "plt.show()"
   ]
  },
  {
   "cell_type": "code",
   "execution_count": null,
   "metadata": {},
   "outputs": [],
   "source": [
    "model.output_shape"
   ]
  },
  {
   "cell_type": "code",
   "execution_count": null,
   "metadata": {},
   "outputs": [],
   "source": [
    "model = trainer.model\n",
    "# workspace/dbnet.release.lin/ckpt/db192mini/2021_08_06_07_55_20/26-0.427.ckpt.data-00000-of-00001\n",
    "model.load_weights('./ckpt/db192mini/2021_08_06_07_55_20/26-0.427.ckpt')"
   ]
  },
  {
   "cell_type": "code",
   "execution_count": null,
   "metadata": {},
   "outputs": [],
   "source": [
    "model.summary()"
   ]
  },
  {
   "cell_type": "code",
   "execution_count": null,
   "metadata": {},
   "outputs": [],
   "source": [
    "new_model = keras.models.Model(model.get_layer('image').input,model.get_layer('conv2d_transpose_9').output)"
   ]
  },
  {
   "cell_type": "code",
   "execution_count": null,
   "metadata": {},
   "outputs": [],
   "source": [
    "img = plt.imread(\"photo_2021-06-21_17-41-11.jpg\")\n",
    "print(img.shape)\n",
    "\n",
    "img = cv2.resize(img, (int(640 / img.shape[0] * img.shape[1] // 32 * 32), 640), cv2.INTER_AREA)\n",
    "print(img.shape)\n",
    "\n",
    "preds = new_model.predict(img[np.newaxis, ...].astype(np.float32))\n",
    "print(preds[0].shape)\n",
    "prob = preds[0]\n",
    "# th = preds[1][0, ..., 0]\n",
    "# binary = preds[2][0, ..., 0]\n",
    "\n",
    "plt.figure(figsize=(10, 10))\n",
    "# plt.imshow(img, alpha=0.9)\n",
    "# plt.show()\n",
    "plt.imshow(np.exp(prob)/(1+np.exp(prob)), alpha=0.5)\n",
    "plt.show()"
   ]
  },
  {
   "cell_type": "code",
   "execution_count": null,
   "metadata": {},
   "outputs": [],
   "source": [
    "new_model.save('output_transpose')"
   ]
  },
  {
   "cell_type": "code",
   "execution_count": null,
   "metadata": {},
   "outputs": [],
   "source": []
  },
  {
   "cell_type": "code",
   "execution_count": null,
   "metadata": {},
   "outputs": [],
   "source": []
  }
 ],
 "metadata": {
  "kernelspec": {
   "display_name": "Python 3",
   "language": "python",
   "name": "python3"
  },
  "language_info": {
   "codemirror_mode": {
    "name": "ipython",
    "version": 3
   },
   "file_extension": ".py",
   "mimetype": "text/x-python",
   "name": "python",
   "nbconvert_exporter": "python",
   "pygments_lexer": "ipython3",
   "version": "3.8.5"
  }
 },
 "nbformat": 4,
 "nbformat_minor": 4
}
